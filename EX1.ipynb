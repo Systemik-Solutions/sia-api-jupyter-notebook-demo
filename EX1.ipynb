{
 "cells": [
  {
   "cell_type": "markdown",
   "metadata": {},
   "source": [
    "**Import necessary library**"
   ]
  },
  {
   "cell_type": "code",
   "execution_count": 8,
   "metadata": {
    "tags": []
   },
   "outputs": [],
   "source": [
    "import requests\n",
    "import certifi\n",
    "import json\n",
    "import matplotlib.pyplot as plt\n",
    "from matplotlib.ticker import FuncFormatter\n",
    "from matplotlib.ticker import FixedLocator\n",
    "from IPython.display import display, HTML\n",
    "import numpy as np"
   ]
  },
  {
   "cell_type": "markdown",
   "metadata": {
    "tags": []
   },
   "source": [
    "**Replace with your API key**"
   ]
  },
  {
   "cell_type": "code",
   "execution_count": 9,
   "metadata": {
    "tags": []
   },
   "outputs": [],
   "source": [
    "api_key = \"255446bcdde7ca9fe776258d09e8411bbb8d1cade2ebd6aba440f80f6817c3fd\""
   ]
  },
  {
   "cell_type": "markdown",
   "metadata": {
    "tags": []
   },
   "source": [
    "**EX1: The top 10 6-grams in the 20 plays by frequency**  \n",
    "\n",
    "**Text set = Shakespeare 20 for demos**  \n",
    "**Segment by text**  \n",
    "**Ngrams = 6**  \n",
    "**Output Size = 10**  "
   ]
  },
  {
   "cell_type": "code",
   "execution_count": null,
   "metadata": {
    "tags": []
   },
   "outputs": [],
   "source": [
    "#Character to exlude from search\n",
    "excludeWords = [\"[\",\"\\\\\", \"]\", \"_\", \"`\", \"!\", \"\\\"\", \"#\", \"%\", \"'\", \"(\", \")\", \"+\", \",\", \"-\", \"–\", \".\", \"/\", \":\", \";\", \"{\", \"|\", \"}\", \"=\", \"~\", \"?\" ]\n",
    "\n",
    "# Replace with your actual text set ID\n",
    "textset_id = 86 \n",
    "\n",
    "request_url = \"https://sia.ardc-hdcl-sia-iaw.cloud.edu.au/api/v1/word-frequencies\"\n",
    "word_freq_request = {\n",
    "    'textSet': textset_id,\n",
    "    'option':{\n",
    "        'blockMethod': 0,       # Segment by text\n",
    "        'numberOfNGrams' : 6,\n",
    "        'outputSize': 10,\n",
    "        'excludeWords': excludeWords,\n",
    "    }\n",
    "}\n",
    "\n",
    "# Make the API Request\n",
    "response = requests.post(request_url, json=word_freq_request, headers={\"X-API-KEY\": api_key}, timeout=1200)\n",
    "\n",
    "# Create a dictionary to hold word frequencies\n",
    "word_frequency_map = {}\n",
    "word_frequency_text_map = {}\n",
    "word_type_map = {}\n",
    "word_size_map = {}\n",
    "\n",
    "# Handle the Response\n",
    "if response.status_code == 200:\n",
    "    response_data = response.json()\n",
    "    blocks = response_data.get(\"blocks\", [])\n",
    "\n",
    "    for block in blocks:\n",
    "        freqs = block.get('frequencies', [])\n",
    "        name = block.get('name' , 'Unknown')\n",
    "\n",
    "        for freq in freqs:\n",
    "            word = freq.get('word')\n",
    "            value = freq.get('value')\n",
    "\n",
    "            word_frequency_map[word] = word_frequency_map.get(word, 0) + value\n",
    "            \n",
    "            # Store the frequency specific to this block\n",
    "            if word not in word_frequency_text_map:\n",
    "                word_frequency_text_map[word] = {}\n",
    "            word_frequency_text_map[word][name] = value\n",
    "            \n",
    "        word_type_map[name] = block.get('uniqueWordCount' , 0)\n",
    "        word_size_map[name] = block.get('size' , 0)\n",
    "            \n",
    "            \n",
    "    # Sort by frequency and take the top 20 words\n",
    "    sorted_items = sorted(word_frequency_map.items(), key=lambda x: x[1], reverse=True)\n",
    "    sorted_words = [item[0] for item in sorted_items]\n",
    "    sorted_frequencies = [item[1] for item in sorted_items]\n",
    "\n",
    "    # Plotting\n",
    "    plt.figure(figsize=(12, 6))\n",
    "    plt.bar(sorted_words, sorted_frequencies, color='blue')\n",
    "    plt.xlabel('Words')\n",
    "    plt.ylabel('Frequency')\n",
    "    plt.title('Top 10 6-grams in the 20 plays by frequency ')\n",
    "    plt.xticks(rotation=70)\n",
    "    plt.show()\n",
    "    \n",
    "    # Table dispaly\n",
    "    html = '<div style=\"overflow-x: auto; margin-top: 40px;\"><table border=\"1\">'\n",
    "    # Table header\n",
    "    html += '<tr><th>Word</th>'\n",
    "    for block in blocks:\n",
    "        column_name = block.get('name', '')  \n",
    "        html += f'<th style=\"white-space: nowrap;\">{column_name}</th>'\n",
    "    html += '</tr>'\n",
    "\n",
    "    # Adding data rows\n",
    "    for word in sorted_words:\n",
    "        html += f\"<tr><td>{word}</td>\"\n",
    "        for block in blocks:\n",
    "            column_name = block.get('name', '')\n",
    "            frequency = word_frequency_text_map.get(word, {}).get(column_name, 0)\n",
    "            html += f\"<td>{frequency}</td>\"\n",
    "        html += \"</tr>\"\n",
    "    \n",
    "    # Adding Word Types row\n",
    "    html += \"<tr><td>Word Types</td>\"\n",
    "    for block in blocks:\n",
    "        column_name = block.get('name', '')\n",
    "        word_types = word_type_map.get(column_name,0)\n",
    "        html += f\"<td>{word_types}</td>\"\n",
    "    html += \"</tr>\"\n",
    "        \n",
    "    # Adding Sizes row\n",
    "    html += \"<tr><td>Size</td>\"\n",
    "    for block in blocks:\n",
    "        column_name = block.get('name', '')\n",
    "        size = word_size_map.get(column_name,0)\n",
    "        html += f\"<td>{size}</td>\"\n",
    "    html += \"</tr>\"\n",
    "\n",
    "    html += '</table></div>'\n",
    "\n",
    "    display(HTML(html))\n",
    "\n",
    "else:\n",
    "    print(f\"Failed: {response.status_code} {response.reason}\")"
   ]
  }
 ],
 "metadata": {
  "colab": {
   "provenance": []
  },
  "kernelspec": {
   "display_name": "Python 3 (ipykernel)",
   "language": "python",
   "name": "python3"
  },
  "language_info": {
   "codemirror_mode": {
    "name": "ipython",
    "version": 3
   },
   "file_extension": ".py",
   "mimetype": "text/x-python",
   "name": "python",
   "nbconvert_exporter": "python",
   "pygments_lexer": "ipython3",
   "version": "3.10.11"
  }
 },
 "nbformat": 4,
 "nbformat_minor": 4
}
