{
 "cells": [
  {
   "cell_type": "markdown",
   "metadata": {},
   "source": [
    "**Import necessary library**"
   ]
  },
  {
   "cell_type": "code",
   "execution_count": 1,
   "metadata": {
    "tags": []
   },
   "outputs": [],
   "source": [
    "import requests\n",
    "import certifi\n",
    "import json\n",
    "import matplotlib.pyplot as plt\n",
    "from matplotlib.ticker import FuncFormatter\n",
    "from matplotlib.ticker import FixedLocator\n",
    "from IPython.display import display, HTML\n",
    "import numpy as np"
   ]
  },
  {
   "cell_type": "markdown",
   "metadata": {
    "tags": []
   },
   "source": [
    "**Replace with your API key**"
   ]
  },
  {
   "cell_type": "code",
   "execution_count": 2,
   "metadata": {
    "tags": []
   },
   "outputs": [],
   "source": [
    "api_key = \"255446bcdde7ca9fe776258d09e8411bbb8d1cade2ebd6aba440f80f6817c3fd\""
   ]
  },
  {
   "cell_type": "markdown",
   "metadata": {
    "tags": []
   },
   "source": [
    "**EX2: The size of character parts from largest to smallest in these 20 plays**  \n",
    "\n",
    "**Text set = Shakespeare 20 for demos**  \n",
    "**Segment by text and by character**  \n",
    "**Output – n=640**  \n",
    "**Transform and chart – sort by Size, largest to smallest. Chart this row as a scatterplot.**"
   ]
  },
  {
   "cell_type": "code",
   "execution_count": null,
   "metadata": {
    "tags": []
   },
   "outputs": [],
   "source": [
    "# Replace with your actual text set ID \n",
    "textset_id = 86 \n",
    "\n",
    "#Character to exlude from search\n",
    "excludeWords = [\"[\",\"\\\\\", \"]\", \"_\", \"`\", \"!\", \"\\\"\", \"#\", \"%\", \"'\", \"(\", \")\", \"+\", \",\", \"-\", \"–\", \".\", \"/\", \":\", \";\", \"{\", \"|\", \"}\", \"=\", \"~\", \"?\" ]\n",
    "\n",
    "request_url = \"https://sia.ardc-hdcl-sia-iaw.cloud.edu.au/api/v1/word-frequencies\"\n",
    "character_parts_request = {\n",
    "    'textSet': textset_id,\n",
    "    'option': {\n",
    "        'segmentByCharacter': True,  #Segment by character\n",
    "        'blockMethod' : 0,           #Segment by text\n",
    "        'outputSize': 640,\n",
    "        'excludeWords': excludeWords,\n",
    "    }\n",
    "}\n",
    "\n",
    "# Make API request\n",
    "response = requests.post(request_url, json=character_parts_request, headers={\"X-API-KEY\": api_key}, timeout=1200)\n",
    "\n",
    "# Create a dictionary to hold character frequencies\n",
    "character_frequency_map = {}\n",
    "character_frequency_text_map = {}\n",
    "text_name = set()\n",
    "word_type_map = {}\n",
    "word_size_map = {}\n",
    "\n",
    "# Handle the response\n",
    "if response.status_code == 200:\n",
    "    response_data = response.json()\n",
    "    blocks = response_data.get(\"blocks\", [])\n",
    "\n",
    "    for block in blocks:\n",
    "        freqs = block.get('frequencies', [])\n",
    "        name = block.get('name' , 'Unknown')\n",
    "        \n",
    "        for freq in freqs:\n",
    "            word = freq.get('word' , \"Unknown\")\n",
    "            word_count = freq.get('value', 0)\n",
    "            \n",
    "            character_frequency_map[word] = character_frequency_map.get(word, 0) + word_count\n",
    "            \n",
    "            # Store the frequency specific to this block\n",
    "            if word not in character_frequency_text_map:\n",
    "                character_frequency_text_map[word] = {}\n",
    "            character_frequency_text_map[word][name] = character_frequency_text_map[word].get(name , 0) + word_count\n",
    "        \n",
    "        text_name.add(name)\n",
    "        word_type_map[name] = block.get('uniqueWordCount' , 0)\n",
    "        word_size_map[name] = block.get('size' , 0)\n",
    "\n",
    "    # Sort by size and take the top 640 characters\n",
    "    sorted_characters = sorted(character_frequency_map.items(), key=lambda x: x[1], reverse=True)\n",
    "    names = [item[0] for item in sorted_characters]\n",
    "    sizes = [item[1] for item in sorted_characters]\n",
    "\n",
    "    # Scatterplot\n",
    "    plt.figure(figsize=(16, 6))\n",
    "    ranks = np.arange(1, len(names) + 1)\n",
    "    plt.scatter(ranks, sizes, c='blue')\n",
    "    plt.xticks(np.arange(0, 701, 100))  # Set tick marks up to 700\n",
    "    plt.xlim([0, 700])  # Set x-axis limits up to 700\n",
    "    plt.xlabel('Rank')\n",
    "    plt.ylabel('Size of Spoken Part')\n",
    "    plt.title('Size of Character Parts in 20 Shakespeare Plays')\n",
    "    plt.show()\n",
    "    \n",
    "    # Table dispaly\n",
    "    html = '<div style=\"overflow: auto; max-height: 500px; margin-top: 40px;\"><table border=\"1\">'\n",
    "    # Table header\n",
    "    html += '<tr><th>Word</th>'\n",
    "    for name in text_name:\n",
    "        html += f'<th style=\"white-space: nowrap;\">{name}</th>'\n",
    "    html += '</tr>'\n",
    "    \n",
    "    # Adding data rows\n",
    "    for word in names:\n",
    "        html += f\"<tr><td>{word}</td>\"\n",
    "        for name in text_name:\n",
    "            frequency = character_frequency_text_map.get(word, {}).get(name, 0)\n",
    "            html += f\"<td>{frequency}</td>\"\n",
    "        html += \"</tr>\"\n",
    "        \n",
    "    # Adding Word Types row\n",
    "    html += \"<tr><td>Word Types</td>\"\n",
    "    for name in text_name:\n",
    "        word_types = word_type_map.get(name,0)\n",
    "        html += f\"<td>{word_types}</td>\"\n",
    "    html += \"</tr>\"\n",
    "        \n",
    "    # Adding Sizes row\n",
    "    html += \"<tr><td>Size</td>\"\n",
    "    for name in text_name:\n",
    "        size = word_size_map.get(name,0)\n",
    "        html += f\"<td>{size}</td>\"\n",
    "    html += \"</tr>\"\n",
    "\n",
    "    html += '</table></div>'\n",
    "\n",
    "    display(HTML(html))\n",
    "\n",
    "\n",
    "else:\n",
    "    print(f\"Failed: {response.status_code} {response.reason}\")"
   ]
  }
 ],
 "metadata": {
  "colab": {
   "provenance": []
  },
  "kernelspec": {
   "display_name": "Python 3 (ipykernel)",
   "language": "python",
   "name": "python3"
  },
  "language_info": {
   "codemirror_mode": {
    "name": "ipython",
    "version": 3
   },
   "file_extension": ".py",
   "mimetype": "text/x-python",
   "name": "python",
   "nbconvert_exporter": "python",
   "pygments_lexer": "ipython3",
   "version": "3.10.11"
  }
 },
 "nbformat": 4,
 "nbformat_minor": 4
}
